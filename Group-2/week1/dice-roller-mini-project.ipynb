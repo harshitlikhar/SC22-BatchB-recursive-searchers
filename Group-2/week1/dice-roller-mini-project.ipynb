{
 "cells": [
  {
   "cell_type": "markdown",
   "metadata": {
    "collapsed": false
   },
   "source": [
    "# Dice Roller Mini Project\n",
    "This is a python project aimed at teaching students core concepts about coding and python. This project will feature the ability to specify the number of faces on the dice and as well as ask the user if they want to play again. If you want to add a challenge, you can ask the user how many dice they want to roll."
   ]
  },
  {
   "cell_type": "markdown",
   "metadata": {
    "collapsed": false
   },
   "source": [
    "Lets go ahead and get started. I'll start by breaking up the project into 3 sections. The first section will cover getting input from the user and changing data types in python. The second section will cover generating random numbers in python. The third section will cover loops and implementing the challenge part of our project"
   ]
  },
  {
   "cell_type": "markdown",
   "metadata": {
    "collapsed": false
   },
   "source": [
    "## Section 1: User input"
   ]
  },
  {
   "cell_type": "markdown",
   "metadata": {
    "collapsed": false
   },
   "source": [
    "To get user input in python, all we need to do is use the \"input\" function and save the information to a variable. Click the play button below to see that in action..."
   ]
  },
  {
   "cell_type": "code",
   "execution_count": 5,
   "metadata": {
    "collapsed": false
   },
   "outputs": [
    {
     "data": {
      "text/plain": [
       "'Hello World'"
      ]
     },
     "execution_count": 5,
     "metadata": {
     },
     "output_type": "execute_result"
    }
   ],
   "source": [
    "user_input = input()\n",
    "user_input"
   ]
  },
  {
   "cell_type": "markdown",
   "metadata": {
    "collapsed": false
   },
   "source": [
    "The input function also lets us add a prompt by typing what we want to send to the user in the parenteses as we can see below."
   ]
  },
  {
   "cell_type": "code",
   "execution_count": 6,
   "metadata": {
    "collapsed": false
   },
   "outputs": [
   ],
   "source": [
    "user_input = input(\"Please write your name here: \")\n",
    "user_input"
   ]
  },
  {
   "cell_type": "markdown",
   "metadata": {
    "collapsed": false
   },
   "source": [
    "This input is always read as text, or as a string. If we want to use user input in an equation, we would need to convert the string to an integer, or an int. For the default example 13 was entered, then 12."
   ]
  },
  {
   "cell_type": "code",
   "execution_count": 8,
   "metadata": {
    "collapsed": false
   },
   "outputs": [
    {
     "name": "stdout",
     "output_type": "stream",
     "text": [
      "The sum of the numbers is:  1312\n"
     ]
    }
   ],
   "source": [
    "# Adding user inputs without converting to ints\n",
    "user_input1 = input(\"Write a number here: \")\n",
    "user_input2 = input(\"Write a second number here: \")\n",
    "print('The sum of the numbers is: ', user_input1 + user_input2)"
   ]
  },
  {
   "cell_type": "code",
   "execution_count": 9,
   "metadata": {
    "collapsed": false
   },
   "outputs": [
    {
     "name": "stdout",
     "output_type": "stream",
     "text": [
      "The sum of the numbers is:  25\n"
     ]
    }
   ],
   "source": [
    "# Adding user inputs with converting to ints\n",
    "user_input1 = input(\"Write a number here: \")\n",
    "user_input2 = input(\"Write a second number here: \")\n",
    "print('The sum of the numbers is: ', int(user_input1) + int(user_input2))"
   ]
  },
  {
   "cell_type": "markdown",
   "metadata": {
    "collapsed": false
   },
   "source": [
    "Now its your turn to try. Go ahead and write some code below asking the user to input some number that we will convert to an int. Then if it is a positive number, print out \"This is a positive number\", else, print out \"This is not a positive number\".\n",
    "\n"
   ]
  },
  {
   "cell_type": "code",
   "execution_count": 34,
   "metadata": {
    "cocalc": {
     "outputs": {
      "0": {
       "name": "input",
       "opts": {
        "password": false,
        "prompt": "Enter Any Number: "
       },
       "output_type": "stream",
       "value": "0.000000000000000000000000000000000000000000000000000000000000000000000000000000001"
      }
     }
    },
    "collapsed": false
   },
   "outputs": [
    {
     "name": "stdout",
     "output_type": "stream",
     "text": "Enter Any Number:  0.000000000000000000000000000000000000000000000000000000000000000000000000000000001"
    },
    {
     "name": "stdout",
     "output_type": "stream",
     "text": [
      "1e-81 This is a positive number\n"
     ]
    }
   ],
   "source": [
    "in1 = float(input(\"Enter Any Number: \"))\n",
    "\n",
    "if in1 > 0:\n",
    "    print(in1, 'This is a positive number')\n",
    "elif in1 == 0:\n",
    "    print(in1, 'This is neither positive nor negative')\n",
    "else:\n",
    "    print(in1, 'This number is negative')"
   ]
  },
  {
   "cell_type": "markdown",
   "metadata": {
    "collapsed": false
   },
   "source": [
    "## Section 2: Generating Random Numbers\n",
    "\n"
   ]
  },
  {
   "cell_type": "markdown",
   "metadata": {
    "collapsed": false
   },
   "source": [
    "Python uses the \"random\" module to generate (functionally) random numbers as well as performing a variety of chance based tasks. In order to use this module, all we need to do is type \"import random\". Though this also works for all install modules, \"random\" is a default module that comes with python. After we import it, we will generate and print a random decimal between 0 and 1"
   ]
  },
  {
   "cell_type": "code",
   "execution_count": 18,
   "metadata": {
    "collapsed": false
   },
   "outputs": [
    {
     "data": {
      "text/plain": [
       "0.33696910250430223"
      ]
     },
     "execution_count": 18,
     "metadata": {
     },
     "output_type": "execute_result"
    }
   ],
   "source": [
    "import random\n",
    "random.random()"
   ]
  },
  {
   "cell_type": "markdown",
   "metadata": {
    "collapsed": false
   },
   "source": [
    "To generate a random integer between two specified numbers, all we need to do is use the \"randint\" function as seen below. Its important to note that this function includes the numbers in the parenteses, meaning that the below function can generate the numbers 0 and 10."
   ]
  },
  {
   "cell_type": "code",
   "execution_count": 38,
   "metadata": {
    "collapsed": false
   },
   "outputs": [
    {
     "data": {
      "text/plain": [
       "5"
      ]
     },
     "execution_count": 38,
     "metadata": {
     },
     "output_type": "execute_result"
    }
   ],
   "source": [
    "random.randint(0, 10)"
   ]
  },
  {
   "cell_type": "markdown",
   "metadata": {
    "collapsed": false
   },
   "source": [
    "Now its your turn, go ahead and generate a random number between 0 and 50. Then, if the number is greater than 25, print \"Large number generated\", otherwise, print \"Small number generated\"\n",
    "\n"
   ]
  },
  {
   "cell_type": "code",
   "execution_count": 40,
   "metadata": {
    "collapsed": false,
    "scrolled": true
   },
   "outputs": [
    {
     "name": "stdout",
     "output_type": "stream",
     "text": [
      "Small number generated\n"
     ]
    }
   ],
   "source": [
    "\n",
    "import random\n",
    "in1 = random.randint(0, 50)\n",
    "if in1 >=25: \n",
    "    print(\"Large number generated\")\n",
    "else:\n",
    "    print(\"Small number generated\")\n",
    "#You had a colon that was the problem it should work, also I learned this from the excersie above delete in1 <= 25 cause  else statements don't need a parameter. #Oh good job! Thanks!, Also if you want the number to show like x number was generated you could do print(in1, \"Small number was generated\") #Oh, didnt know that, thanks!"
   ]
  },
  {
   "cell_type": "markdown",
   "metadata": {
    "collapsed": false
   },
   "source": [
    "## Section 3: Loops and Challenge\n",
    "\n"
   ]
  },
  {
   "cell_type": "markdown",
   "metadata": {
    "collapsed": false
   },
   "source": [
    "In this section, we will talk about for loops and while loops. In general, for loops are better for running a block of code a set number of times and while loops are better for running a block of code until some condition changes or is met. We'll start off by looking at for loops."
   ]
  },
  {
   "cell_type": "markdown",
   "metadata": {
    "collapsed": false
   },
   "source": [
    "Our first for loop will run the indented block of code 5 times, we can see this in the output where the print statement is run 5 times"
   ]
  },
  {
   "cell_type": "code",
   "execution_count": 1,
   "metadata": {
    "collapsed": false
   },
   "outputs": [
    {
     "name": "stdout",
     "output_type": "stream",
     "text": [
      "Hello World\n",
      "Hello World\n",
      "Hello World\n",
      "Hello World\n",
      "Hello World\n"
     ]
    }
   ],
   "source": [
    "for i in range(5):\n",
    "    print(\"Hello World\")"
   ]
  },
  {
   "cell_type": "markdown",
   "metadata": {
    "collapsed": false
   },
   "source": [
    "You should notice the range function as a part of the for loop, this is because python only has for loops that iterate over a list. For now, you don't have to worry about what the means, but the important take away is that the range function allows you to loop from 0 to the number in the parentheses, setting \"i\" to the current value. This value changes every loop through. We can see this below."
   ]
  },
  {
   "cell_type": "code",
   "execution_count": 2,
   "metadata": {
    "collapsed": false
   },
   "outputs": [
    {
     "name": "stdout",
     "output_type": "stream",
     "text": [
      "0\n",
      "1\n",
      "2\n",
      "3\n",
      "4\n"
     ]
    }
   ],
   "source": [
    "for i in range(5):\n",
    "    print(i)"
   ]
  },
  {
   "cell_type": "markdown",
   "metadata": {
    "collapsed": false
   },
   "source": [
    "At its most basic level, a for loop will run the code below it however many times you specified. Go ahead and write some code below that prints out \"I love pizza\" 12 times."
   ]
  },
  {
   "cell_type": "code",
   "execution_count": 46,
   "metadata": {
    "collapsed": false
   },
   "outputs": [
    {
     "name": "stdout",
     "output_type": "stream",
     "text": [
      "I Love Pizza!\n",
      "I Love Pizza!\n",
      "I Love Pizza!\n",
      "I Love Pizza!\n",
      "I Love Pizza!\n",
      "I Love Pizza!\n",
      "I Love Pizza!\n",
      "I Love Pizza!\n",
      "I Love Pizza!\n",
      "I Love Pizza!\n",
      "I Love Pizza!\n",
      "I Love Pizza!\n"
     ]
    }
   ],
   "source": [
    "for a in range (12):\n",
    "    print(\"I Love Pizza!\")"
   ]
  },
  {
   "cell_type": "markdown",
   "metadata": {
    "collapsed": false
   },
   "source": [
    "Next, we'll take a look at while loops. In general, you can make a while loop do anything that a for loop can do but with slightly different syntax, so if you find youself understanding while loops better than for loops, you can just focus on using them. "
   ]
  },
  {
   "cell_type": "markdown",
   "metadata": {
    "collapsed": false
   },
   "source": [
    "In the block below, we will make a while loop that runs 5 times ( mimicking \"for i in range(5)\" ). For while loops, they have the potential to run infinetly. While we may want this, it can also freeze our program. This means we need to set an acheivable end condition, or state where the loop will end."
   ]
  },
  {
   "cell_type": "code",
   "execution_count": 3,
   "metadata": {
    "collapsed": false
   },
   "outputs": [
    {
     "name": "stdout",
     "output_type": "stream",
     "text": [
      "Hello World\n",
      "Hello World\n",
      "Hello World\n",
      "Hello World\n",
      "Hello World\n"
     ]
    }
   ],
   "source": [
    "i = 0\n",
    "while i < 5:\n",
    "    print(\"Hello World\")\n",
    "    i = i + 1"
   ]
  },
  {
   "cell_type": "markdown",
   "metadata": {
    "collapsed": false
   },
   "source": [
    "We can see that the variable \"i\" is increased each time the loop is run. Then, once \"i\" stops being less than 5, the code stops running. Similar to the for loop, lets print out \"i\" on each run of the code to see what it is."
   ]
  },
  {
   "cell_type": "code",
   "execution_count": 4,
   "metadata": {
    "collapsed": false
   },
   "outputs": [
    {
     "name": "stdout",
     "output_type": "stream",
     "text": [
      "0\n",
      "1\n",
      "2\n",
      "3\n",
      "4\n"
     ]
    }
   ],
   "source": [
    "i = 0\n",
    "while i < 5:\n",
    "    print(i)\n",
    "    i = i + 1"
   ]
  },
  {
   "cell_type": "markdown",
   "metadata": {
    "collapsed": false
   },
   "source": [
    "Unlike with for loops, in while loops it is important where in the loop the code is. For example, in the loop below we will swap the print line and the \"i = i + 1\" line and see what that does to the output."
   ]
  },
  {
   "cell_type": "code",
   "execution_count": 5,
   "metadata": {
    "collapsed": false
   },
   "outputs": [
    {
     "name": "stdout",
     "output_type": "stream",
     "text": [
      "1\n",
      "2\n",
      "3\n",
      "4\n",
      "5\n"
     ]
    }
   ],
   "source": [
    "i = 0\n",
    "while i < 5:\n",
    "    i = i + 1\n",
    "    print(i)"
   ]
  },
  {
   "cell_type": "markdown",
   "metadata": {
    "collapsed": false
   },
   "source": [
    "While the code still runs 5 times, the output has changed. It now includes 5! This is because the value of \"i\" is only checked when starting to run the loop. Its important to keep this in mind as we continue working with while loops."
   ]
  },
  {
   "cell_type": "markdown",
   "metadata": {
    "collapsed": false
   },
   "source": [
    "Try writting a while loop that prints out all the even numbers from 0 to 10, including 10, in the next block"
   ]
  },
  {
   "cell_type": "code",
   "execution_count": 44,
   "metadata": {
    "collapsed": false
   },
   "outputs": [
    {
     "name": "stdout",
     "output_type": "stream",
     "text": [
      "2\n",
      "4\n",
      "6\n",
      "8\n",
      "10\n"
     ]
    }
   ],
   "source": [
    "n = 0\n",
    "while n < 10:\n",
    "    n = n + 2\n",
    "    print(n)"
   ]
  },
  {
   "cell_type": "markdown",
   "metadata": {
    "collapsed": false
   },
   "source": [
    "Now we will run a while loop that doesn't stop until it recieves a specific user input. For more information on user inputs, check out section 1. Keep in mind that the comparison is case sensitive."
   ]
  },
  {
   "cell_type": "code",
   "execution_count": 47,
   "metadata": {
    "cocalc": {
     "outputs": {
      "0": {
       "name": "input",
       "opts": {
        "password": false,
        "prompt": "Write a word here. type exit to end the loop"
       },
       "output_type": "stream",
       "value": "Hello"
      },
      "2": {
       "name": "input",
       "opts": {
        "password": false,
        "prompt": "Write a word here. type exit to end the loop"
       },
       "output_type": "stream",
       "value": "hello"
      },
      "3": {
       "name": "input",
       "opts": {
        "password": false,
        "prompt": "Write a word here. type exit to end the loop"
       },
       "output_type": "stream"
      }
     }
    },
    "collapsed": false
   },
   "outputs": [
    {
     "name": "stdout",
     "output_type": "stream",
     "text": "Write a word here. type exit to end the loop Hello"
    },
    {
     "name": "stdout",
     "output_type": "stream",
     "text": [
      "user entered:  Hello\n"
     ]
    },
    {
     "name": "stdout",
     "output_type": "stream",
     "text": "Write a word here. type exit to end the loop hello"
    },
    {
     "name": "stdout",
     "output_type": "stream",
     "text": "Write a word here. type exit to end the loop "
    },
    {
     "name": "stdout",
     "output_type": "stream",
     "text": [
      "user entered:  hello\n"
     ],
     "value": "exit"
    },
    {
     "name": "stdout",
     "output_type": "stream",
     "text": [
      "user entered:  exit\n"
     ]
    }
   ],
   "source": [
    "user_in = ''\n",
    "while user_in != \"exit\":\n",
    "    user_in = input(\"Write a word here. type exit to end the loop\")\n",
    "    print(\"user entered: \", user_in)"
   ]
  },
  {
   "cell_type": "markdown",
   "metadata": {
    "collapsed": false
   },
   "source": [
    "## Section 4: Putting it all together"
   ]
  },
  {
   "cell_type": "markdown",
   "metadata": {
    "collapsed": false
   },
   "source": [
    "Now its time to put the entire thing together and create one big project together. The 3 different sections should fit together below. We will need a while loop that runs until the user types in \"no\" or \"stop\". Then we need to ask the user to enter how many faces the die should have. Next we need to pick a random number between 1 and the user selected number.\n",
    "\n"
   ]
  },
  {
   "cell_type": "code",
   "execution_count": 62,
   "metadata": {
    "cocalc": {
     "outputs": {
      "0": {
       "name": "input",
       "opts": {
        "password": false,
        "prompt": "How many faces:"
       },
       "output_type": "stream",
       "value": "6"
      },
      "1": {
       "name": "input",
       "opts": {
        "password": false,
        "prompt": "Do you want to continue. Yes or No"
       },
       "output_type": "stream",
       "value": "yes"
      },
      "3": {
       "name": "input",
       "opts": {
        "password": false,
        "prompt": "Do you want to continue. Yes or No"
       },
       "output_type": "stream",
       "value": "no"
      }
     }
    },
    "collapsed": false
   },
   "outputs": [
    {
     "name": "stdout",
     "output_type": "stream",
     "text": "How many faces: 6"
    },
    {
     "name": "stdout",
     "output_type": "stream",
     "text": "Do you want to continue. Yes or No yes"
    },
    {
     "name": "stdout",
     "output_type": "stream",
     "text": [
      "The Dice Face that rolled up is: 2\n"
     ]
    },
    {
     "name": "stdout",
     "output_type": "stream",
     "text": "Do you want to continue. Yes or No no"
    },
    {
     "name": "stdout",
     "output_type": "stream",
     "text": [
      "Thank you for playing\n"
     ]
    }
   ],
   "source": [
    "import random\n",
    "import time\n",
    "\n",
    "no_of_faces = int(input(\"How many faces:\"))\n",
    "\n",
    "check = True\n",
    "\n",
    "while check == True:\n",
    "    new_check = input(\"Do you want to continue. Yes or No\")    \n",
    "    \n",
    "\n",
    "    if new_check == \"No\" or new_check == \"no\":\n",
    "        check = False\n",
    "    else:\n",
    "        check = True\n",
    "        print(\"The Dice Face that rolled up is:\",random.randint(0, no_of_faces))\n",
    "        time.sleep(3)\n",
    "\n",
    "print(\"Thank you for playing\")"
   ]
  },
  {
   "cell_type": "code",
   "execution_count": 63,
   "metadata": {
    "cocalc": {
     "outputs": {
      "0": {
       "name": "input",
       "opts": {
        "password": false,
        "prompt": "How many faces:"
       },
       "output_type": "stream"
      }
     }
    },
    "collapsed": false
   },
   "outputs": [
    {
     "name": "stdout",
     "output_type": "stream",
     "text": "How many faces: "
    }
   ],
   "source": [
    "#import random\n",
    "#user_in = ''\n",
    "#while user_in != \"no\":\n",
    "    #user_in = input(\"How many die faces do you want? Type no to end the loop\")\n",
    "    #y=random.randint(0,int(user_in))\n",
    "    #if user_in <'':\n",
    "        #print(\" \", user_in)\n",
    "import random\n",
    "import time\n",
    "\n",
    "no_of_faces = int(input(\"How many faces:\"))\n",
    "\n",
    "check = True\n",
    "\n",
    "while check == True:\n",
    "    new_check = input(\"Do you want to continue. Yes or No\")    \n",
    "    \n",
    "\n",
    "    if new_check == \"No\" or new_check == \"no\":\n",
    "        check = False\n",
    "    else:\n",
    "        check = True\n",
    "        print(\"The Dice Face that rolled up is:\",random.randint(0, no_of_faces))\n",
    "        time.sleep(3)\n",
    "\n",
    "print(\"Thank you for playing\")"
   ]
  },
  {
   "cell_type": "code",
   "execution_count": 60,
   "metadata": {
    "cocalc": {
     "outputs": {
      "0": {
       "name": "input",
       "opts": {
        "password": false,
        "prompt": ""
       },
       "output_type": "stream",
       "value": "6"
      },
      "1": {
       "name": "input",
       "opts": {
        "password": false,
        "prompt": "How many die faces do you want (NUMBERS ONLY)? To end the loop type 'exit'"
       },
       "output_type": "stream",
       "value": "6"
      }
     }
    },
    "collapsed": false
   },
   "outputs": [
    {
     "name": "stdout",
     "output_type": "stream",
     "text": " 6"
    },
    {
     "name": "stdout",
     "output_type": "stream",
     "text": "How many die faces do you want (NUMBERS ONLY)? To end the loop type 'exit' 6"
    },
    {
     "ename": "TypeError",
     "evalue": "can only concatenate str (not \"int\") to str",
     "output_type": "error",
     "traceback": [
      "\u001b[0;31m---------------------------------------------------------------------------\u001b[0m",
      "\u001b[0;31mTypeError\u001b[0m                                 Traceback (most recent call last)",
      "\u001b[0;32m<ipython-input-60-dea96bd54ab2>\u001b[0m in \u001b[0;36m<module>\u001b[0;34m\u001b[0m\n\u001b[1;32m      6\u001b[0m \u001b[0;32mwhile\u001b[0m \u001b[0mx\u001b[0m \u001b[0;34m!=\u001b[0m \u001b[0;34m\"exit\"\u001b[0m\u001b[0;34m:\u001b[0m\u001b[0;34m\u001b[0m\u001b[0;34m\u001b[0m\u001b[0m\n\u001b[1;32m      7\u001b[0m     \u001b[0mx\u001b[0m \u001b[0;34m=\u001b[0m \u001b[0minput\u001b[0m\u001b[0;34m(\u001b[0m\u001b[0;34m\"How many die faces do you want (NUMBERS ONLY)? To end the loop type 'exit'\"\u001b[0m\u001b[0;34m)\u001b[0m\u001b[0;34m\u001b[0m\u001b[0;34m\u001b[0m\u001b[0m\n\u001b[0;32m----> 8\u001b[0;31m     \u001b[0my\u001b[0m \u001b[0;34m=\u001b[0m \u001b[0mrandom\u001b[0m\u001b[0;34m.\u001b[0m\u001b[0mrandint\u001b[0m\u001b[0;34m(\u001b[0m\u001b[0;36m0\u001b[0m\u001b[0;34m,\u001b[0m \u001b[0mx\u001b[0m\u001b[0;34m)\u001b[0m\u001b[0;34m\u001b[0m\u001b[0;34m\u001b[0m\u001b[0m\n\u001b[0m\u001b[1;32m      9\u001b[0m     \u001b[0mprint\u001b[0m\u001b[0;34m(\u001b[0m\u001b[0;34m\"You wanted \"\u001b[0m\u001b[0;34m,\u001b[0m \u001b[0mx\u001b[0m\u001b[0;34m,\u001b[0m\u001b[0;34m\" die faces. The computer generated \"\u001b[0m\u001b[0;34m,\u001b[0m \u001b[0my\u001b[0m\u001b[0;34m,\u001b[0m \u001b[0;34m\" die face\"\u001b[0m\u001b[0;34m)\u001b[0m\u001b[0;34m\u001b[0m\u001b[0;34m\u001b[0m\u001b[0m\n",
      "\u001b[0;32m/usr/lib/python3.8/random.py\u001b[0m in \u001b[0;36mrandint\u001b[0;34m(self, a, b)\u001b[0m\n\u001b[1;32m    246\u001b[0m         \"\"\"\n\u001b[1;32m    247\u001b[0m \u001b[0;34m\u001b[0m\u001b[0m\n\u001b[0;32m--> 248\u001b[0;31m         \u001b[0;32mreturn\u001b[0m \u001b[0mself\u001b[0m\u001b[0;34m.\u001b[0m\u001b[0mrandrange\u001b[0m\u001b[0;34m(\u001b[0m\u001b[0ma\u001b[0m\u001b[0;34m,\u001b[0m \u001b[0mb\u001b[0m\u001b[0;34m+\u001b[0m\u001b[0;36m1\u001b[0m\u001b[0;34m)\u001b[0m\u001b[0;34m\u001b[0m\u001b[0;34m\u001b[0m\u001b[0m\n\u001b[0m\u001b[1;32m    249\u001b[0m \u001b[0;34m\u001b[0m\u001b[0m\n\u001b[1;32m    250\u001b[0m     \u001b[0;32mdef\u001b[0m \u001b[0m_randbelow_with_getrandbits\u001b[0m\u001b[0;34m(\u001b[0m\u001b[0mself\u001b[0m\u001b[0;34m,\u001b[0m \u001b[0mn\u001b[0m\u001b[0;34m)\u001b[0m\u001b[0;34m:\u001b[0m\u001b[0;34m\u001b[0m\u001b[0;34m\u001b[0m\u001b[0m\n",
      "\u001b[0;31mTypeError\u001b[0m: can only concatenate str (not \"int\") to str"
     ]
    }
   ],
   "source": [
    "# Thoughts\n",
    "# in1 = exit loop\n",
    "# in2 = Die Faces\n",
    "# in3 = rando num between 1 and user selected num\n",
    "x = float(input(\"\"))\n",
    "while x != \"exit\":\n",
    "    x = input(\"How many die faces do you want (NUMBERS ONLY)? To end the loop type 'exit'\")\n",
    "    y = random.randint(0, x)\n",
    "    print(\"You wanted \", x,\" die faces. The computer generated \", y, \" die face\")"
   ]
  },
  {
   "cell_type": "code",
   "execution_count": 0,
   "metadata": {
    "collapsed": false
   },
   "outputs": [
   ],
   "source": [
   ]
  }
 ],
 "metadata": {
  "interpreter": {
   "hash": "790a1b4df21474b492961c89d736dbdf6bfc8dfb962e88c04d650fa1afe63f4b"
  },
  "kernelspec": {
   "display_name": "Python 3 (Ubuntu Linux)",
   "language": "python",
   "name": "python3-ubuntu",
   "resource_dir": "/usr/local/share/jupyter/kernels/python3-ubuntu"
  },
  "language_info": {
   "codemirror_mode": {
    "name": "ipython",
    "version": 3
   },
   "file_extension": ".py",
   "mimetype": "text/x-python",
   "name": "python",
   "nbconvert_exporter": "python",
   "pygments_lexer": "ipython3",
   "version": "3.10.0"
  },
  "orig_nbformat": 4
 },
 "nbformat": 4,
 "nbformat_minor": 4
}